{
  "nbformat": 4,
  "nbformat_minor": 0,
  "metadata": {
    "colab": {
      "provenance": [],
      "mount_file_id": "1tbHZgRsUQkDuiINvZviiW47Nrv90rAuy",
      "authorship_tag": "ABX9TyM9xPEo6u+0eNsoAes2JOaG",
      "include_colab_link": true
    },
    "kernelspec": {
      "name": "python3",
      "display_name": "Python 3"
    },
    "language_info": {
      "name": "python"
    }
  },
  "cells": [
    {
      "cell_type": "markdown",
      "metadata": {
        "id": "view-in-github",
        "colab_type": "text"
      },
      "source": [
        "<a href=\"https://colab.research.google.com/github/Nhutsang/CodeWeek13/blob/main/24_4bai1.ipynb\" target=\"_parent\"><img src=\"https://colab.research.google.com/assets/colab-badge.svg\" alt=\"Open In Colab\"/></a>"
      ]
    },
    {
      "cell_type": "code",
      "execution_count": 16,
      "metadata": {
        "colab": {
          "base_uri": "https://localhost:8080/"
        },
        "id": "ih2lkiaknc8T",
        "outputId": "58bb0e1b-dabb-4341-ea54-0cc28b4d5909"
      },
      "outputs": [
        {
          "output_type": "stream",
          "name": "stdout",
          "text": [
            "Looking in indexes: https://pypi.org/simple, https://us-python.pkg.dev/colab-wheels/public/simple/\n",
            "Requirement already satisfied: youtube_search in /usr/local/lib/python3.9/dist-packages (2.1.2)\n",
            "Requirement already satisfied: requests in /usr/local/lib/python3.9/dist-packages (from youtube_search) (2.27.1)\n",
            "Requirement already satisfied: charset-normalizer~=2.0.0 in /usr/local/lib/python3.9/dist-packages (from requests->youtube_search) (2.0.12)\n",
            "Requirement already satisfied: idna<4,>=2.5 in /usr/local/lib/python3.9/dist-packages (from requests->youtube_search) (3.4)\n",
            "Requirement already satisfied: certifi>=2017.4.17 in /usr/local/lib/python3.9/dist-packages (from requests->youtube_search) (2022.12.7)\n",
            "Requirement already satisfied: urllib3<1.27,>=1.21.1 in /usr/local/lib/python3.9/dist-packages (from requests->youtube_search) (1.26.15)\n"
          ]
        }
      ],
      "source": [
        "pip install youtube_search\n"
      ]
    },
    {
      "cell_type": "code",
      "source": [
        "from youtube_search import YoutubeSearch\n",
        "import webbrowser \n"
      ],
      "metadata": {
        "id": "3rmeUdUBrQvw"
      },
      "execution_count": 17,
      "outputs": []
    },
    {
      "cell_type": "code",
      "source": [
        "mysony = input('Nhap vao ten bai hat can tim: ')\n",
        "result =  YoutubeSearch(mysony , max_results= 10 ).to_dict()\n",
        "print(result)\n",
        "for i in range(0,10):\n",
        "  url = 'http://www.youtube.com' + result[i]['url_suffix']\n",
        "  print(url)\n",
        "webbrowser(url)"
      ],
      "metadata": {
        "colab": {
          "base_uri": "https://localhost:8080/",
          "height": 428
        },
        "id": "ZlQr8coOr3bw",
        "outputId": "a701479c-96b6-41e4-d109-6f7fa98943c0"
      },
      "execution_count": 18,
      "outputs": [
        {
          "output_type": "stream",
          "name": "stdout",
          "text": [
            "Nhap vao ten bai hat can tim: phép màu\n",
            "[{'id': 'gFsc4brtBes', 'thumbnails': ['https://i.ytimg.com/vi/gFsc4brtBes/hq720.jpg?sqp=-oaymwEjCOgCEMoBSFryq4qpAxUIARUAAAAAGAElAADIQj0AgKJDeAE=&rs=AOn4CLA8IwHdyjIMjPBjZ2s9P06D2EBGSQ', 'https://i.ytimg.com/vi/gFsc4brtBes/hq720.jpg?sqp=-oaymwEXCNAFEJQDSFryq4qpAwkIARUAAIhCGAE=&rs=AOn4CLAVz7wJaHBNYPT6tRGHhQCZRZ7JIQ'], 'title': '[DTT&TT] Track 7. Phép Màu - B Ray', 'long_desc': None, 'channel': 'EvB Records', 'duration': '3:32', 'views': '24,807,779 views', 'publish_time': '5 years ago', 'url_suffix': '/watch?v=gFsc4brtBes&pp=ygUKcGjDqXAgbcOgdQ%3D%3D'}, {'id': 'PjKDTs1AnoI', 'thumbnails': ['https://i.ytimg.com/vi/PjKDTs1AnoI/hq720.jpg?sqp=-oaymwEjCOgCEMoBSFryq4qpAxUIARUAAAAAGAElAADIQj0AgKJDeAE=&rs=AOn4CLDuHVggumyk-f-YQsbiRTz86PdpVg', 'https://i.ytimg.com/vi/PjKDTs1AnoI/hq720.jpg?sqp=-oaymwEXCNAFEJQDSFryq4qpAwkIARUAAIhCGAE=&rs=AOn4CLBazgiRxb-PmJJU7BdK17K1hJnVcg'], 'title': '[Audio] The magic - Phép màu. Cuốn sách gối đầu của người giàu có.', 'long_desc': None, 'channel': 'Audio books', 'duration': '3:46:52', 'views': '412,920 views', 'publish_time': '1 year ago', 'url_suffix': '/watch?v=PjKDTs1AnoI&pp=ygUKcGjDqXAgbcOgdQ%3D%3D'}, {'id': 'KJG2CanDH2I', 'thumbnails': ['https://i.ytimg.com/vi/KJG2CanDH2I/hq720.jpg?sqp=-oaymwEjCOgCEMoBSFryq4qpAxUIARUAAAAAGAElAADIQj0AgKJDeAE=&rs=AOn4CLDApNw1R4Ijri7KMw4NhACls5xWJg', 'https://i.ytimg.com/vi/KJG2CanDH2I/hq720.jpg?sqp=-oaymwEXCNAFEJQDSFryq4qpAwkIARUAAIhCGAE=&rs=AOn4CLBu6cIjCGgm_VgbRh9CgptrUidEQg'], 'title': '[Phải nghe] Thực hành LÒNG BIẾT ƠN - Phép màu thay đổi cuộc sống - Lắng nghe 3 lần mỗi ngày', 'long_desc': None, 'channel': 'Luật hấp dẫn TIỀN BẠC - Trangktt', 'duration': '30:03', 'views': '60,957 views', 'publish_time': '1 month ago', 'url_suffix': '/watch?v=KJG2CanDH2I&pp=ygUKcGjDqXAgbcOgdQ%3D%3D'}, {'id': 'Da3hSdAOxFo', 'thumbnails': ['https://i.ytimg.com/vi/Da3hSdAOxFo/hq720.jpg?sqp=-oaymwEjCOgCEMoBSFryq4qpAxUIARUAAAAAGAElAADIQj0AgKJDeAE=&rs=AOn4CLByd8R2lN-FHW8aL1Wy6_F52u8PlA', 'https://i.ytimg.com/vi/Da3hSdAOxFo/hq720.jpg?sqp=-oaymwEXCNAFEJQDSFryq4qpAwkIARUAAIhCGAE=&rs=AOn4CLBWv4wVh5MmMurc67CZZcuHDNKcAw'], 'title': 'Phép Màu - Thùy Dương Cover', 'long_desc': None, 'channel': 'BEN MUSIC', 'duration': '2:39', 'views': '1,788,267 views', 'publish_time': '3 years ago', 'url_suffix': '/watch?v=Da3hSdAOxFo&pp=ygUKcGjDqXAgbcOgdQ%3D%3D'}, {'id': 'ZiwuznDIliE', 'thumbnails': ['https://i.ytimg.com/vi/ZiwuznDIliE/hq720.jpg?sqp=-oaymwE9COgCEMoBSFryq4qpAy8IARUAAAAAGAElAADIQj0AgKJDeAHwAQH4AZQDgALQBYoCDAgAEAEYZSBiKFcwDw==&rs=AOn4CLDoNT7tLNPX2VGQWUwn-VYa-EPZxA', 'https://i.ytimg.com/vi/ZiwuznDIliE/hq720.jpg?sqp=-oaymwExCNAFEJQDSFryq4qpAyMIARUAAIhCGAHwAQH4AZQDgALQBYoCDAgAEAEYZSBiKFcwDw==&rs=AOn4CLB1EOXlp48Sk50n5Hg190cWmgq-KQ'], 'title': 'Phép màu - BRay (cover) | Bảo Hân (Helia)', 'long_desc': None, 'channel': 'Bảo Hân', 'duration': '2:32', 'views': '7,305,141 views', 'publish_time': '5 years ago', 'url_suffix': '/watch?v=ZiwuznDIliE&pp=ygUKcGjDqXAgbcOgdQ%3D%3D'}, {'id': 'gbK4pWXQEa0', 'thumbnails': ['https://i.ytimg.com/vi/gbK4pWXQEa0/hq720.jpg?sqp=-oaymwEjCOgCEMoBSFryq4qpAxUIARUAAAAAGAElAADIQj0AgKJDeAE=&rs=AOn4CLAJEad00hnyTOkB8c4d2e_BG17aSA', 'https://i.ytimg.com/vi/gbK4pWXQEa0/hq720.jpg?sqp=-oaymwEXCNAFEJQDSFryq4qpAwkIARUAAIhCGAE=&rs=AOn4CLDaCaXYEQkmDvN4h_Rpq6rYu8_WqA'], 'title': 'THE MAGIC - PHÉP MÀU | NGÀY 7: CÁNH CỬA THOÁT KHỎI SỰ TIÊU CỰC', 'long_desc': None, 'channel': 'Ly Võ Thị', 'duration': '14:39', 'views': '8,660 views', 'publish_time': '3 years ago', 'url_suffix': '/watch?v=gbK4pWXQEa0&pp=ygUKcGjDqXAgbcOgdQ%3D%3D'}, {'id': '-dr4LwGU43o', 'thumbnails': ['https://i.ytimg.com/vi/-dr4LwGU43o/hq720.jpg?sqp=-oaymwE9COgCEMoBSFryq4qpAy8IARUAAAAAGAElAADIQj0AgKJDeAHwAQH4Af4JgALQBYoCDAgAEAEYZSBRKGAwDw==&rs=AOn4CLDm6n4ZIm1TBAKUFcBLtToS8paDPw', 'https://i.ytimg.com/vi/-dr4LwGU43o/hq720.jpg?sqp=-oaymwExCNAFEJQDSFryq4qpAyMIARUAAIhCGAHwAQH4Af4JgALQBYoCDAgAEAEYZSBRKGAwDw==&rs=AOn4CLCwKfCAt-DkiwpFAsXxhZbRrOkd2Q'], 'title': '22.04.2023 - NHÂN VẬT THÁNG TƯ  \"PHÉP MÀU CỦA NGHỊ LỰC & TÌNH THƯƠNG\"', 'long_desc': None, 'channel': 'NLG YÊU THƯƠNG', 'duration': '1:10:48', 'views': '10,271 views', 'publish_time': 'Streamed 1 day ago', 'url_suffix': '/watch?v=-dr4LwGU43o&pp=ygUKcGjDqXAgbcOgdQ%3D%3D'}, {'id': 'MTVWC7_6ZMg', 'thumbnails': ['https://i.ytimg.com/vi/MTVWC7_6ZMg/hq720.jpg?sqp=-oaymwE9COgCEMoBSFryq4qpAy8IARUAAAAAGAElAADIQj0AgKJDeAHwAQH4Af4JgALQBYoCDAgAEAEYSSBlKDMwDw==&rs=AOn4CLBWKVXdBZ7Qh0HVHj0OMhbp4k_LLA', 'https://i.ytimg.com/vi/MTVWC7_6ZMg/hq720.jpg?sqp=-oaymwExCNAFEJQDSFryq4qpAyMIARUAAIhCGAHwAQH4Af4JgALQBYoCDAgAEAEYSSBlKDMwDw==&rs=AOn4CLB0hZw_0D4rky6q99cVLnXmrCHKCQ'], 'title': 'Phép màu cho em - Bảo An', 'long_desc': None, 'channel': 'Thế Giới Âm Nhạc', 'duration': '4:59', 'views': '49 views', 'publish_time': '4 months ago', 'url_suffix': '/watch?v=MTVWC7_6ZMg&pp=ygUKcGjDqXAgbcOgdQ%3D%3D'}, {'id': '9akoiWtXDQ8', 'thumbnails': ['https://i.ytimg.com/vi/9akoiWtXDQ8/hqdefault.jpg?sqp=-oaymwE9COADEI4CSFryq4qpAy8IARUAAAAAGAElAADIQj0AgKJDeAHwAQH4AYAFgALgA4oCDAgAEAEYSSBlKGQwDw==&rs=AOn4CLBr1hk5iXWZ8avs0H7dNn9ytzqBOA'], 'title': '[ Sách nói ] THE MAGIC - PHÉP MÀU - NGÀY 01 - Cảm thấy mình thật hạnh phúc', 'long_desc': None, 'channel': 'PHONG TĨNH ', 'duration': '10:52', 'views': '35,567 views', 'publish_time': '1 year ago', 'url_suffix': '/watch?v=9akoiWtXDQ8&pp=ygUKcGjDqXAgbcOgdQ%3D%3D'}, {'id': 'MmBhyjEaTiY', 'thumbnails': ['https://i.ytimg.com/vi/MmBhyjEaTiY/hq720.jpg?sqp=-oaymwEjCOgCEMoBSFryq4qpAxUIARUAAAAAGAElAADIQj0AgKJDeAE=&rs=AOn4CLB_maO3s-0V--5EG4pLjfQiJdBeFw', 'https://i.ytimg.com/vi/MmBhyjEaTiY/hq720.jpg?sqp=-oaymwEXCNAFEJQDSFryq4qpAwkIARUAAIhCGAE=&rs=AOn4CLDC9UoBgG0SV4pqKbZiMeP0DYh-bg'], 'title': 'THE MAGIC Phép màu - Tóm tắt sách The Magic Phép màu - 28 ngày thực hành lòng biết ơn /Trần Thu Hằng', 'long_desc': None, 'channel': 'Trần Thu Hằng Official', 'duration': '22:26', 'views': '9,796 views', 'publish_time': '1 year ago', 'url_suffix': '/watch?v=MmBhyjEaTiY&pp=ygUKcGjDqXAgbcOgdQ%3D%3D'}]\n",
            "http://www.youtube.com/watch?v=gFsc4brtBes&pp=ygUKcGjDqXAgbcOgdQ%3D%3D\n",
            "http://www.youtube.com/watch?v=PjKDTs1AnoI&pp=ygUKcGjDqXAgbcOgdQ%3D%3D\n",
            "http://www.youtube.com/watch?v=KJG2CanDH2I&pp=ygUKcGjDqXAgbcOgdQ%3D%3D\n",
            "http://www.youtube.com/watch?v=Da3hSdAOxFo&pp=ygUKcGjDqXAgbcOgdQ%3D%3D\n",
            "http://www.youtube.com/watch?v=ZiwuznDIliE&pp=ygUKcGjDqXAgbcOgdQ%3D%3D\n",
            "http://www.youtube.com/watch?v=gbK4pWXQEa0&pp=ygUKcGjDqXAgbcOgdQ%3D%3D\n",
            "http://www.youtube.com/watch?v=-dr4LwGU43o&pp=ygUKcGjDqXAgbcOgdQ%3D%3D\n",
            "http://www.youtube.com/watch?v=MTVWC7_6ZMg&pp=ygUKcGjDqXAgbcOgdQ%3D%3D\n",
            "http://www.youtube.com/watch?v=9akoiWtXDQ8&pp=ygUKcGjDqXAgbcOgdQ%3D%3D\n",
            "http://www.youtube.com/watch?v=MmBhyjEaTiY&pp=ygUKcGjDqXAgbcOgdQ%3D%3D\n"
          ]
        },
        {
          "output_type": "error",
          "ename": "TypeError",
          "evalue": "ignored",
          "traceback": [
            "\u001b[0;31m---------------------------------------------------------------------------\u001b[0m",
            "\u001b[0;31mTypeError\u001b[0m                                 Traceback (most recent call last)",
            "\u001b[0;32m<ipython-input-18-dfd61d0691ba>\u001b[0m in \u001b[0;36m<cell line: 7>\u001b[0;34m()\u001b[0m\n\u001b[1;32m      5\u001b[0m   \u001b[0murl\u001b[0m \u001b[0;34m=\u001b[0m \u001b[0;34m'http://www.youtube.com'\u001b[0m \u001b[0;34m+\u001b[0m \u001b[0mresult\u001b[0m\u001b[0;34m[\u001b[0m\u001b[0mi\u001b[0m\u001b[0;34m]\u001b[0m\u001b[0;34m[\u001b[0m\u001b[0;34m'url_suffix'\u001b[0m\u001b[0;34m]\u001b[0m\u001b[0;34m\u001b[0m\u001b[0;34m\u001b[0m\u001b[0m\n\u001b[1;32m      6\u001b[0m   \u001b[0mprint\u001b[0m\u001b[0;34m(\u001b[0m\u001b[0murl\u001b[0m\u001b[0;34m)\u001b[0m\u001b[0;34m\u001b[0m\u001b[0;34m\u001b[0m\u001b[0m\n\u001b[0;32m----> 7\u001b[0;31m \u001b[0mwebbrowser\u001b[0m\u001b[0;34m(\u001b[0m\u001b[0murl\u001b[0m\u001b[0;34m)\u001b[0m\u001b[0;34m\u001b[0m\u001b[0;34m\u001b[0m\u001b[0m\n\u001b[0m",
            "\u001b[0;31mTypeError\u001b[0m: 'module' object is not callable"
          ]
        }
      ]
    },
    {
      "cell_type": "code",
      "source": [
        "#pip install openpyxl\n",
        "from openpyxl import Workbook"
      ],
      "metadata": {
        "id": "uTt1ZR84uLvG"
      },
      "execution_count": 19,
      "outputs": []
    },
    {
      "cell_type": "code",
      "source": [
        "data = Workbook()\n",
        "sheet  = data.active\n",
        "for i in range(0,10):\n",
        "  print(result[i]['title'])\n",
        "  print(result[i]['url_suffix'])\n",
        "  url = 'http://www.youtube.com' + result[i]['url_suffix']\n",
        "  print(url)\n",
        "  sheet['A' + str(i + 1)] = i + 1\n",
        "  sheet['B' + str(i + 1)] = result[i]['title']\n",
        "  sheet['C'+ str(i + 1)] = result[i]['url_suffix']\n",
        "  sheet['D' + str(i+1)] = result[i]['views']\n",
        "  sheet['E' + str(i + 1)] = result[i]['channel']\n",
        "\n",
        "data.save('ex.xls')"
      ],
      "metadata": {
        "colab": {
          "base_uri": "https://localhost:8080/"
        },
        "id": "D8Jf_jEduY_u",
        "outputId": "a7c23f34-a05b-4445-8a97-1bddb3787e95"
      },
      "execution_count": 28,
      "outputs": [
        {
          "output_type": "stream",
          "name": "stdout",
          "text": [
            "[DTT&TT] Track 7. Phép Màu - B Ray\n",
            "/watch?v=gFsc4brtBes&pp=ygUKcGjDqXAgbcOgdQ%3D%3D\n",
            "http://www.youtube.com/watch?v=gFsc4brtBes&pp=ygUKcGjDqXAgbcOgdQ%3D%3D\n",
            "[Audio] The magic - Phép màu. Cuốn sách gối đầu của người giàu có.\n",
            "/watch?v=PjKDTs1AnoI&pp=ygUKcGjDqXAgbcOgdQ%3D%3D\n",
            "http://www.youtube.com/watch?v=PjKDTs1AnoI&pp=ygUKcGjDqXAgbcOgdQ%3D%3D\n",
            "[Phải nghe] Thực hành LÒNG BIẾT ƠN - Phép màu thay đổi cuộc sống - Lắng nghe 3 lần mỗi ngày\n",
            "/watch?v=KJG2CanDH2I&pp=ygUKcGjDqXAgbcOgdQ%3D%3D\n",
            "http://www.youtube.com/watch?v=KJG2CanDH2I&pp=ygUKcGjDqXAgbcOgdQ%3D%3D\n",
            "Phép Màu - Thùy Dương Cover\n",
            "/watch?v=Da3hSdAOxFo&pp=ygUKcGjDqXAgbcOgdQ%3D%3D\n",
            "http://www.youtube.com/watch?v=Da3hSdAOxFo&pp=ygUKcGjDqXAgbcOgdQ%3D%3D\n",
            "Phép màu - BRay (cover) | Bảo Hân (Helia)\n",
            "/watch?v=ZiwuznDIliE&pp=ygUKcGjDqXAgbcOgdQ%3D%3D\n",
            "http://www.youtube.com/watch?v=ZiwuznDIliE&pp=ygUKcGjDqXAgbcOgdQ%3D%3D\n",
            "THE MAGIC - PHÉP MÀU | NGÀY 7: CÁNH CỬA THOÁT KHỎI SỰ TIÊU CỰC\n",
            "/watch?v=gbK4pWXQEa0&pp=ygUKcGjDqXAgbcOgdQ%3D%3D\n",
            "http://www.youtube.com/watch?v=gbK4pWXQEa0&pp=ygUKcGjDqXAgbcOgdQ%3D%3D\n",
            "22.04.2023 - NHÂN VẬT THÁNG TƯ  \"PHÉP MÀU CỦA NGHỊ LỰC & TÌNH THƯƠNG\"\n",
            "/watch?v=-dr4LwGU43o&pp=ygUKcGjDqXAgbcOgdQ%3D%3D\n",
            "http://www.youtube.com/watch?v=-dr4LwGU43o&pp=ygUKcGjDqXAgbcOgdQ%3D%3D\n",
            "Phép màu cho em - Bảo An\n",
            "/watch?v=MTVWC7_6ZMg&pp=ygUKcGjDqXAgbcOgdQ%3D%3D\n",
            "http://www.youtube.com/watch?v=MTVWC7_6ZMg&pp=ygUKcGjDqXAgbcOgdQ%3D%3D\n",
            "[ Sách nói ] THE MAGIC - PHÉP MÀU - NGÀY 01 - Cảm thấy mình thật hạnh phúc\n",
            "/watch?v=9akoiWtXDQ8&pp=ygUKcGjDqXAgbcOgdQ%3D%3D\n",
            "http://www.youtube.com/watch?v=9akoiWtXDQ8&pp=ygUKcGjDqXAgbcOgdQ%3D%3D\n",
            "THE MAGIC Phép màu - Tóm tắt sách The Magic Phép màu - 28 ngày thực hành lòng biết ơn /Trần Thu Hằng\n",
            "/watch?v=MmBhyjEaTiY&pp=ygUKcGjDqXAgbcOgdQ%3D%3D\n",
            "http://www.youtube.com/watch?v=MmBhyjEaTiY&pp=ygUKcGjDqXAgbcOgdQ%3D%3D\n"
          ]
        }
      ]
    },
    {
      "cell_type": "code",
      "source": [
        "pip install SpeechRecognition"
      ],
      "metadata": {
        "colab": {
          "base_uri": "https://localhost:8080/"
        },
        "id": "VfvZw-wyyw5W",
        "outputId": "d5911e94-1480-445a-979c-e5011a7da42b"
      },
      "execution_count": 36,
      "outputs": [
        {
          "output_type": "stream",
          "name": "stdout",
          "text": [
            "Looking in indexes: https://pypi.org/simple, https://us-python.pkg.dev/colab-wheels/public/simple/\n",
            "Collecting SpeechRecognition\n",
            "  Downloading SpeechRecognition-3.10.0-py2.py3-none-any.whl (32.8 MB)\n",
            "\u001b[2K     \u001b[90m━━━━━━━━━━━━━━━━━━━━━━━━━━━━━━━━━━━━━━━━\u001b[0m \u001b[32m32.8/32.8 MB\u001b[0m \u001b[31m36.2 MB/s\u001b[0m eta \u001b[36m0:00:00\u001b[0m\n",
            "\u001b[?25hRequirement already satisfied: requests>=2.26.0 in /usr/local/lib/python3.9/dist-packages (from SpeechRecognition) (2.27.1)\n",
            "Requirement already satisfied: charset-normalizer~=2.0.0 in /usr/local/lib/python3.9/dist-packages (from requests>=2.26.0->SpeechRecognition) (2.0.12)\n",
            "Requirement already satisfied: urllib3<1.27,>=1.21.1 in /usr/local/lib/python3.9/dist-packages (from requests>=2.26.0->SpeechRecognition) (1.26.15)\n",
            "Requirement already satisfied: certifi>=2017.4.17 in /usr/local/lib/python3.9/dist-packages (from requests>=2.26.0->SpeechRecognition) (2022.12.7)\n",
            "Requirement already satisfied: idna<4,>=2.5 in /usr/local/lib/python3.9/dist-packages (from requests>=2.26.0->SpeechRecognition) (3.4)\n",
            "Installing collected packages: SpeechRecognition\n",
            "Successfully installed SpeechRecognition-3.10.0\n"
          ]
        }
      ]
    },
    {
      "cell_type": "code",
      "source": [
        "file = '/content/drive/MyDrive/K.wav'\n"
      ],
      "metadata": {
        "id": "xJUKNIiRzGmm"
      },
      "execution_count": 60,
      "outputs": []
    },
    {
      "cell_type": "code",
      "source": [
        "import speech_recognition  as sv"
      ],
      "metadata": {
        "id": "njse36QVsXd4"
      },
      "execution_count": 61,
      "outputs": []
    },
    {
      "cell_type": "code",
      "source": [
        "file = '/content/drive/MyDrive/K.wav'\n",
        "r = sv.Recognizer()\n",
        "with sv.AudioFile(file) as source :\n",
        "  audio_data = r.record(source)\n",
        "  text = r.recognize_google(audio_data , language = 'vi')\n",
        "  print(text)"
      ],
      "metadata": {
        "id": "3C0vyZylzeDX"
      },
      "execution_count": null,
      "outputs": []
    },
    {
      "cell_type": "code",
      "source": [
        "with sv.AudioFile('/content/drive/MyDrive/male.wav') as source:\n",
        "  audio1 = r.record(source, duration = 10)\n",
        "  audio2 = r.record(source, offset = 4 , duration =10)\n",
        "print(r.recognize_google(audio1, language = 'vi_VI'))\n",
        "print(r.recognize_google(audio1, language= 'en_EN'))"
      ],
      "metadata": {
        "colab": {
          "base_uri": "https://localhost:8080/"
        },
        "id": "mPfYh3G76-eN",
        "outputId": "b3cbe776-dcd3-4230-fe08-4245f1db235d"
      },
      "execution_count": 99,
      "outputs": [
        {
          "output_type": "stream",
          "name": "stdout",
          "text": [
            "What is the size of successful they occur in the workplace Ielts Speaking on the guests were\n",
            "what if somebody decides to break it be careful that you keep adequate coverage but look for places to save money baby it's taking longer to get things squared away\n"
          ]
        }
      ]
    },
    {
      "cell_type": "code",
      "source": [
        "pip install google-cloud-texttospeech"
      ],
      "metadata": {
        "colab": {
          "base_uri": "https://localhost:8080/"
        },
        "id": "ABucqfDazxcv",
        "outputId": "1c817c9b-3c69-4b43-ded5-fade9bc1d86a"
      },
      "execution_count": 65,
      "outputs": [
        {
          "output_type": "stream",
          "name": "stdout",
          "text": [
            "Looking in indexes: https://pypi.org/simple, https://us-python.pkg.dev/colab-wheels/public/simple/\n",
            "Requirement already satisfied: google-cloud-texttospeech in /usr/local/lib/python3.9/dist-packages (2.14.1)\n",
            "Requirement already satisfied: protobuf!=3.20.0,!=3.20.1,!=4.21.0,!=4.21.1,!=4.21.2,!=4.21.3,!=4.21.4,!=4.21.5,<5.0.0dev,>=3.19.5 in /usr/local/lib/python3.9/dist-packages (from google-cloud-texttospeech) (3.20.3)\n",
            "Requirement already satisfied: google-api-core[grpc]!=2.0.*,!=2.1.*,!=2.10.*,!=2.2.*,!=2.3.*,!=2.4.*,!=2.5.*,!=2.6.*,!=2.7.*,!=2.8.*,!=2.9.*,<3.0.0dev,>=1.34.0 in /usr/local/lib/python3.9/dist-packages (from google-cloud-texttospeech) (2.11.0)\n",
            "Requirement already satisfied: proto-plus<2.0.0dev,>=1.22.0 in /usr/local/lib/python3.9/dist-packages (from google-cloud-texttospeech) (1.22.2)\n",
            "Requirement already satisfied: requests<3.0.0dev,>=2.18.0 in /usr/local/lib/python3.9/dist-packages (from google-api-core[grpc]!=2.0.*,!=2.1.*,!=2.10.*,!=2.2.*,!=2.3.*,!=2.4.*,!=2.5.*,!=2.6.*,!=2.7.*,!=2.8.*,!=2.9.*,<3.0.0dev,>=1.34.0->google-cloud-texttospeech) (2.27.1)\n",
            "Requirement already satisfied: google-auth<3.0dev,>=2.14.1 in /usr/local/lib/python3.9/dist-packages (from google-api-core[grpc]!=2.0.*,!=2.1.*,!=2.10.*,!=2.2.*,!=2.3.*,!=2.4.*,!=2.5.*,!=2.6.*,!=2.7.*,!=2.8.*,!=2.9.*,<3.0.0dev,>=1.34.0->google-cloud-texttospeech) (2.17.3)\n",
            "Requirement already satisfied: googleapis-common-protos<2.0dev,>=1.56.2 in /usr/local/lib/python3.9/dist-packages (from google-api-core[grpc]!=2.0.*,!=2.1.*,!=2.10.*,!=2.2.*,!=2.3.*,!=2.4.*,!=2.5.*,!=2.6.*,!=2.7.*,!=2.8.*,!=2.9.*,<3.0.0dev,>=1.34.0->google-cloud-texttospeech) (1.59.0)\n",
            "Requirement already satisfied: grpcio-status<2.0dev,>=1.33.2 in /usr/local/lib/python3.9/dist-packages (from google-api-core[grpc]!=2.0.*,!=2.1.*,!=2.10.*,!=2.2.*,!=2.3.*,!=2.4.*,!=2.5.*,!=2.6.*,!=2.7.*,!=2.8.*,!=2.9.*,<3.0.0dev,>=1.34.0->google-cloud-texttospeech) (1.48.2)\n",
            "Requirement already satisfied: grpcio<2.0dev,>=1.33.2 in /usr/local/lib/python3.9/dist-packages (from google-api-core[grpc]!=2.0.*,!=2.1.*,!=2.10.*,!=2.2.*,!=2.3.*,!=2.4.*,!=2.5.*,!=2.6.*,!=2.7.*,!=2.8.*,!=2.9.*,<3.0.0dev,>=1.34.0->google-cloud-texttospeech) (1.53.0)\n",
            "Requirement already satisfied: pyasn1-modules>=0.2.1 in /usr/local/lib/python3.9/dist-packages (from google-auth<3.0dev,>=2.14.1->google-api-core[grpc]!=2.0.*,!=2.1.*,!=2.10.*,!=2.2.*,!=2.3.*,!=2.4.*,!=2.5.*,!=2.6.*,!=2.7.*,!=2.8.*,!=2.9.*,<3.0.0dev,>=1.34.0->google-cloud-texttospeech) (0.2.8)\n",
            "Requirement already satisfied: rsa<5,>=3.1.4 in /usr/local/lib/python3.9/dist-packages (from google-auth<3.0dev,>=2.14.1->google-api-core[grpc]!=2.0.*,!=2.1.*,!=2.10.*,!=2.2.*,!=2.3.*,!=2.4.*,!=2.5.*,!=2.6.*,!=2.7.*,!=2.8.*,!=2.9.*,<3.0.0dev,>=1.34.0->google-cloud-texttospeech) (4.9)\n",
            "Requirement already satisfied: six>=1.9.0 in /usr/local/lib/python3.9/dist-packages (from google-auth<3.0dev,>=2.14.1->google-api-core[grpc]!=2.0.*,!=2.1.*,!=2.10.*,!=2.2.*,!=2.3.*,!=2.4.*,!=2.5.*,!=2.6.*,!=2.7.*,!=2.8.*,!=2.9.*,<3.0.0dev,>=1.34.0->google-cloud-texttospeech) (1.16.0)\n",
            "Requirement already satisfied: cachetools<6.0,>=2.0.0 in /usr/local/lib/python3.9/dist-packages (from google-auth<3.0dev,>=2.14.1->google-api-core[grpc]!=2.0.*,!=2.1.*,!=2.10.*,!=2.2.*,!=2.3.*,!=2.4.*,!=2.5.*,!=2.6.*,!=2.7.*,!=2.8.*,!=2.9.*,<3.0.0dev,>=1.34.0->google-cloud-texttospeech) (5.3.0)\n",
            "Requirement already satisfied: idna<4,>=2.5 in /usr/local/lib/python3.9/dist-packages (from requests<3.0.0dev,>=2.18.0->google-api-core[grpc]!=2.0.*,!=2.1.*,!=2.10.*,!=2.2.*,!=2.3.*,!=2.4.*,!=2.5.*,!=2.6.*,!=2.7.*,!=2.8.*,!=2.9.*,<3.0.0dev,>=1.34.0->google-cloud-texttospeech) (3.4)\n",
            "Requirement already satisfied: certifi>=2017.4.17 in /usr/local/lib/python3.9/dist-packages (from requests<3.0.0dev,>=2.18.0->google-api-core[grpc]!=2.0.*,!=2.1.*,!=2.10.*,!=2.2.*,!=2.3.*,!=2.4.*,!=2.5.*,!=2.6.*,!=2.7.*,!=2.8.*,!=2.9.*,<3.0.0dev,>=1.34.0->google-cloud-texttospeech) (2022.12.7)\n",
            "Requirement already satisfied: urllib3<1.27,>=1.21.1 in /usr/local/lib/python3.9/dist-packages (from requests<3.0.0dev,>=2.18.0->google-api-core[grpc]!=2.0.*,!=2.1.*,!=2.10.*,!=2.2.*,!=2.3.*,!=2.4.*,!=2.5.*,!=2.6.*,!=2.7.*,!=2.8.*,!=2.9.*,<3.0.0dev,>=1.34.0->google-cloud-texttospeech) (1.26.15)\n",
            "Requirement already satisfied: charset-normalizer~=2.0.0 in /usr/local/lib/python3.9/dist-packages (from requests<3.0.0dev,>=2.18.0->google-api-core[grpc]!=2.0.*,!=2.1.*,!=2.10.*,!=2.2.*,!=2.3.*,!=2.4.*,!=2.5.*,!=2.6.*,!=2.7.*,!=2.8.*,!=2.9.*,<3.0.0dev,>=1.34.0->google-cloud-texttospeech) (2.0.12)\n",
            "Requirement already satisfied: pyasn1<0.5.0,>=0.4.6 in /usr/local/lib/python3.9/dist-packages (from pyasn1-modules>=0.2.1->google-auth<3.0dev,>=2.14.1->google-api-core[grpc]!=2.0.*,!=2.1.*,!=2.10.*,!=2.2.*,!=2.3.*,!=2.4.*,!=2.5.*,!=2.6.*,!=2.7.*,!=2.8.*,!=2.9.*,<3.0.0dev,>=1.34.0->google-cloud-texttospeech) (0.4.8)\n"
          ]
        }
      ]
    },
    {
      "cell_type": "code",
      "source": [
        "pip install gTTs"
      ],
      "metadata": {
        "colab": {
          "base_uri": "https://localhost:8080/"
        },
        "id": "5U81WzGrAlFA",
        "outputId": "04166550-a28d-4559-cc8a-d8a17eced84c"
      },
      "execution_count": 71,
      "outputs": [
        {
          "output_type": "stream",
          "name": "stdout",
          "text": [
            "Looking in indexes: https://pypi.org/simple, https://us-python.pkg.dev/colab-wheels/public/simple/\n",
            "Collecting gTTs\n",
            "  Downloading gTTS-2.3.1-py3-none-any.whl (28 kB)\n",
            "Requirement already satisfied: click<8.2,>=7.1 in /usr/local/lib/python3.9/dist-packages (from gTTs) (8.1.3)\n",
            "Requirement already satisfied: requests<3,>=2.27 in /usr/local/lib/python3.9/dist-packages (from gTTs) (2.27.1)\n",
            "Requirement already satisfied: idna<4,>=2.5 in /usr/local/lib/python3.9/dist-packages (from requests<3,>=2.27->gTTs) (3.4)\n",
            "Requirement already satisfied: charset-normalizer~=2.0.0 in /usr/local/lib/python3.9/dist-packages (from requests<3,>=2.27->gTTs) (2.0.12)\n",
            "Requirement already satisfied: certifi>=2017.4.17 in /usr/local/lib/python3.9/dist-packages (from requests<3,>=2.27->gTTs) (2022.12.7)\n",
            "Requirement already satisfied: urllib3<1.27,>=1.21.1 in /usr/local/lib/python3.9/dist-packages (from requests<3,>=2.27->gTTs) (1.26.15)\n",
            "Installing collected packages: gTTs\n",
            "Successfully installed gTTs-2.3.1\n"
          ]
        }
      ]
    },
    {
      "cell_type": "code",
      "source": [
        "\n",
        "from gtts import gTTS\n",
        "import os"
      ],
      "metadata": {
        "id": "zI0ObZqi-87C"
      },
      "execution_count": 102,
      "outputs": []
    },
    {
      "cell_type": "code",
      "source": [
        "from google.cloud import texttospeech\n",
        "\n",
        "import os"
      ],
      "metadata": {
        "id": "UOuCegQfBMq5"
      },
      "execution_count": 103,
      "outputs": []
    },
    {
      "cell_type": "code",
      "source": [
        "A = 'hello'\n",
        "speak = gTTS(text = A ,language ='vi_VI',slow = False)\n",
        "#speak.save('A')\n",
        "#playsound('')\n",
        "os.remove()\n"
      ],
      "metadata": {
        "colab": {
          "base_uri": "https://localhost:8080/",
          "height": 235
        },
        "id": "0q9dkpoe-ZZ9",
        "outputId": "a240698e-7408-4a8f-b8c7-676f2e74cba2"
      },
      "execution_count": 104,
      "outputs": [
        {
          "output_type": "error",
          "ename": "TypeError",
          "evalue": "ignored",
          "traceback": [
            "\u001b[0;31m---------------------------------------------------------------------------\u001b[0m",
            "\u001b[0;31mTypeError\u001b[0m                                 Traceback (most recent call last)",
            "\u001b[0;32m<ipython-input-104-73ae9c5315ea>\u001b[0m in \u001b[0;36m<cell line: 2>\u001b[0;34m()\u001b[0m\n\u001b[1;32m      1\u001b[0m \u001b[0mA\u001b[0m \u001b[0;34m=\u001b[0m \u001b[0;34m'hello'\u001b[0m\u001b[0;34m\u001b[0m\u001b[0;34m\u001b[0m\u001b[0m\n\u001b[0;32m----> 2\u001b[0;31m \u001b[0mspeak\u001b[0m \u001b[0;34m=\u001b[0m \u001b[0mgTTS\u001b[0m\u001b[0;34m(\u001b[0m\u001b[0mtext\u001b[0m \u001b[0;34m=\u001b[0m \u001b[0mA\u001b[0m \u001b[0;34m,\u001b[0m\u001b[0mlanguage\u001b[0m \u001b[0;34m=\u001b[0m\u001b[0;34m'vi_VI'\u001b[0m\u001b[0;34m,\u001b[0m\u001b[0mslow\u001b[0m \u001b[0;34m=\u001b[0m \u001b[0;32mFalse\u001b[0m\u001b[0;34m)\u001b[0m\u001b[0;34m\u001b[0m\u001b[0;34m\u001b[0m\u001b[0m\n\u001b[0m\u001b[1;32m      3\u001b[0m \u001b[0;31m#speak.save('')\u001b[0m\u001b[0;34m\u001b[0m\u001b[0;34m\u001b[0m\u001b[0m\n\u001b[1;32m      4\u001b[0m \u001b[0;31m#playsound('')\u001b[0m\u001b[0;34m\u001b[0m\u001b[0;34m\u001b[0m\u001b[0m\n\u001b[1;32m      5\u001b[0m \u001b[0mos\u001b[0m\u001b[0;34m.\u001b[0m\u001b[0mremove\u001b[0m\u001b[0;34m(\u001b[0m\u001b[0;34m)\u001b[0m\u001b[0;34m\u001b[0m\u001b[0;34m\u001b[0m\u001b[0m\n",
            "\u001b[0;31mTypeError\u001b[0m: __init__() got an unexpected keyword argument 'language'"
          ]
        }
      ]
    },
    {
      "cell_type": "code",
      "source": [
        "pip install googletrans==3.1.0a0"
      ],
      "metadata": {
        "colab": {
          "base_uri": "https://localhost:8080/",
          "height": 956
        },
        "id": "znv6ewmmB4Cw",
        "outputId": "5a245298-f01c-436f-b59d-88a523fdf27f"
      },
      "execution_count": 83,
      "outputs": [
        {
          "output_type": "stream",
          "name": "stdout",
          "text": [
            "Looking in indexes: https://pypi.org/simple, https://us-python.pkg.dev/colab-wheels/public/simple/\n",
            "Collecting googletrans==3.1.0a0\n",
            "  Downloading googletrans-3.1.0a0.tar.gz (19 kB)\n",
            "  Preparing metadata (setup.py) ... \u001b[?25l\u001b[?25hdone\n",
            "Collecting httpx==0.13.3\n",
            "  Downloading httpx-0.13.3-py3-none-any.whl (55 kB)\n",
            "\u001b[2K     \u001b[90m━━━━━━━━━━━━━━━━━━━━━━━━━━━━━━━━━━━━━━━━\u001b[0m \u001b[32m55.1/55.1 kB\u001b[0m \u001b[31m5.5 MB/s\u001b[0m eta \u001b[36m0:00:00\u001b[0m\n",
            "\u001b[?25hCollecting httpcore==0.9.*\n",
            "  Downloading httpcore-0.9.1-py3-none-any.whl (42 kB)\n",
            "\u001b[2K     \u001b[90m━━━━━━━━━━━━━━━━━━━━━━━━━━━━━━━━━━━━━━━━\u001b[0m \u001b[32m42.6/42.6 kB\u001b[0m \u001b[31m3.6 MB/s\u001b[0m eta \u001b[36m0:00:00\u001b[0m\n",
            "\u001b[?25hRequirement already satisfied: certifi in /usr/local/lib/python3.9/dist-packages (from httpx==0.13.3->googletrans==3.1.0a0) (2022.12.7)\n",
            "Collecting idna==2.*\n",
            "  Downloading idna-2.10-py2.py3-none-any.whl (58 kB)\n",
            "\u001b[2K     \u001b[90m━━━━━━━━━━━━━━━━━━━━━━━━━━━━━━━━━━━━━━━━\u001b[0m \u001b[32m58.8/58.8 kB\u001b[0m \u001b[31m6.0 MB/s\u001b[0m eta \u001b[36m0:00:00\u001b[0m\n",
            "\u001b[?25hCollecting rfc3986<2,>=1.3\n",
            "  Downloading rfc3986-1.5.0-py2.py3-none-any.whl (31 kB)\n",
            "Requirement already satisfied: sniffio in /usr/local/lib/python3.9/dist-packages (from httpx==0.13.3->googletrans==3.1.0a0) (1.3.0)\n",
            "Collecting chardet==3.*\n",
            "  Downloading chardet-3.0.4-py2.py3-none-any.whl (133 kB)\n",
            "\u001b[2K     \u001b[90m━━━━━━━━━━━━━━━━━━━━━━━━━━━━━━━━━━━━━━\u001b[0m \u001b[32m133.4/133.4 kB\u001b[0m \u001b[31m13.1 MB/s\u001b[0m eta \u001b[36m0:00:00\u001b[0m\n",
            "\u001b[?25hCollecting hstspreload\n",
            "  Downloading hstspreload-2023.1.1-py3-none-any.whl (1.5 MB)\n",
            "\u001b[2K     \u001b[90m━━━━━━━━━━━━━━━━━━━━━━━━━━━━━━━━━━━━━━━━\u001b[0m \u001b[32m1.5/1.5 MB\u001b[0m \u001b[31m44.5 MB/s\u001b[0m eta \u001b[36m0:00:00\u001b[0m\n",
            "\u001b[?25hCollecting h2==3.*\n",
            "  Downloading h2-3.2.0-py2.py3-none-any.whl (65 kB)\n",
            "\u001b[2K     \u001b[90m━━━━━━━━━━━━━━━━━━━━━━━━━━━━━━━━━━━━━━━━\u001b[0m \u001b[32m65.0/65.0 kB\u001b[0m \u001b[31m5.5 MB/s\u001b[0m eta \u001b[36m0:00:00\u001b[0m\n",
            "\u001b[?25hCollecting h11<0.10,>=0.8\n",
            "  Downloading h11-0.9.0-py2.py3-none-any.whl (53 kB)\n",
            "\u001b[2K     \u001b[90m━━━━━━━━━━━━━━━━━━━━━━━━━━━━━━━━━━━━━━━━\u001b[0m \u001b[32m53.6/53.6 kB\u001b[0m \u001b[31m2.9 MB/s\u001b[0m eta \u001b[36m0:00:00\u001b[0m\n",
            "\u001b[?25hCollecting hyperframe<6,>=5.2.0\n",
            "  Downloading hyperframe-5.2.0-py2.py3-none-any.whl (12 kB)\n",
            "Collecting hpack<4,>=3.0\n",
            "  Downloading hpack-3.0.0-py2.py3-none-any.whl (38 kB)\n",
            "Building wheels for collected packages: googletrans\n",
            "  Building wheel for googletrans (setup.py) ... \u001b[?25l\u001b[?25hdone\n",
            "  Created wheel for googletrans: filename=googletrans-3.1.0a0-py3-none-any.whl size=16368 sha256=4552644c994f7cfa66408dd2036488314a15c3900160c75218fa0f393d3ccab1\n",
            "  Stored in directory: /root/.cache/pip/wheels/ae/e1/6c/5137bc3f35aa130deea71575e165cc4f4f0680a88f3d90a636\n",
            "Successfully built googletrans\n",
            "Installing collected packages: rfc3986, hyperframe, hpack, h11, chardet, idna, hstspreload, h2, httpcore, httpx, googletrans\n",
            "  Attempting uninstall: chardet\n",
            "    Found existing installation: chardet 4.0.0\n",
            "    Uninstalling chardet-4.0.0:\n",
            "      Successfully uninstalled chardet-4.0.0\n",
            "  Attempting uninstall: idna\n",
            "    Found existing installation: idna 3.4\n",
            "    Uninstalling idna-3.4:\n",
            "      Successfully uninstalled idna-3.4\n",
            "Successfully installed chardet-3.0.4 googletrans-3.1.0a0 h11-0.9.0 h2-3.2.0 hpack-3.0.0 hstspreload-2023.1.1 httpcore-0.9.1 httpx-0.13.3 hyperframe-5.2.0 idna-2.10 rfc3986-1.5.0\n"
          ]
        },
        {
          "output_type": "display_data",
          "data": {
            "application/vnd.colab-display-data+json": {
              "pip_warning": {
                "packages": [
                  "chardet",
                  "idna"
                ]
              }
            }
          },
          "metadata": {}
        }
      ]
    },
    {
      "cell_type": "code",
      "source": [
        "from googletrans import Translator\n"
      ],
      "metadata": {
        "id": "g4zwwmfXB_iy"
      },
      "execution_count": 84,
      "outputs": []
    },
    {
      "cell_type": "code",
      "source": [
        "translator = Translator()"
      ],
      "metadata": {
        "id": "oOdhscF2CdJJ"
      },
      "execution_count": 85,
      "outputs": []
    },
    {
      "cell_type": "code",
      "source": [
        "translation = translator.translate('Chúng ta luôn có thể phát triển', dest= 'en')\n",
        "print(translation.text)\n"
      ],
      "metadata": {
        "colab": {
          "base_uri": "https://localhost:8080/"
        },
        "id": "eB3w1vB8ChsP",
        "outputId": "99cabb90-b69e-4f6d-c878-2945fd788f04"
      },
      "execution_count": 101,
      "outputs": [
        {
          "output_type": "stream",
          "name": "stdout",
          "text": [
            "We can always grow\n"
          ]
        }
      ]
    },
    {
      "cell_type": "code",
      "source": [
        "with sv.AudioFile('/content/drive/MyDrive/male.wav') as source:\n",
        "  audio1 = r.record(source, duration = 10)\n",
        "  audio2 = r.record(source, offset = 4 , duration =10)\n",
        "print(r.recognize_google(audio1, language = 'vi_VI'))\n",
        "print(r.recognize_google(audio1, language= 'en_EN'))"
      ],
      "metadata": {
        "id": "eoVkKclpFbkf"
      },
      "execution_count": null,
      "outputs": []
    },
    {
      "cell_type": "code",
      "source": [],
      "metadata": {
        "id": "T0BTkxhKB_j3"
      },
      "execution_count": null,
      "outputs": []
    }
  ]
}